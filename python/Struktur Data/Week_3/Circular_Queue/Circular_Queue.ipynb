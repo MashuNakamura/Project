{
  "nbformat": 4,
  "nbformat_minor": 0,
  "metadata": {
    "colab": {
      "provenance": [],
      "collapsed_sections": [
        "D85r4sn6qRoO",
        "JFwtk9CeqbP2",
        "mu9CfXxjqldc",
        "3MAKRKh3q7c6",
        "PJS3E1_srUvS",
        "MlfTqy0_sSTb",
        "x5GSXMRBtEoT"
      ]
    },
    "kernelspec": {
      "name": "python3",
      "display_name": "Python 3"
    },
    "language_info": {
      "name": "python"
    }
  },
  "cells": [
    {
      "cell_type": "markdown",
      "source": [
        "# Circular Queue"
      ],
      "metadata": {
        "id": "zNNlxn73qLNn"
      }
    },
    {
      "cell_type": "markdown",
      "source": [
        "## Federico Matthew Pratama - 233405001"
      ],
      "metadata": {
        "id": "xXG62oMnqO2B"
      }
    },
    {
      "cell_type": "markdown",
      "source": [
        "### Pertama buatlah sebuah Class bernama `CircularQueue`"
      ],
      "metadata": {
        "id": "D85r4sn6qRoO"
      }
    },
    {
      "cell_type": "code",
      "source": [
        "class CircularQueue:"
      ],
      "metadata": {
        "id": "8dsvgiz4qb1J"
      },
      "execution_count": null,
      "outputs": []
    },
    {
      "cell_type": "markdown",
      "source": [
        "### Setelah itu buatlah fungsi ketika program dijalankan akan menjalankan variable tersebut"
      ],
      "metadata": {
        "id": "JFwtk9CeqbP2"
      }
    },
    {
      "cell_type": "code",
      "source": [
        "def __init__(self, size):\n",
        "  self.size = size\n",
        "  self.queue = [None] * size\n",
        "  self.front = self.rear = - 1"
      ],
      "metadata": {
        "id": "dDUcJwC4qkLV"
      },
      "execution_count": null,
      "outputs": []
    },
    {
      "cell_type": "markdown",
      "source": [
        "### Setelah itu buatlah fungsi untuk pengecekan `is_empty` untuk cek apakah kosong atau `is_full` untuk cek apakah penuh"
      ],
      "metadata": {
        "id": "mu9CfXxjqldc"
      }
    },
    {
      "cell_type": "code",
      "source": [
        "def is_empty(self):\n",
        "  return self.front == - 1\n",
        "\n",
        "def is_full(self):\n",
        "  return (self.rear + 1) % self.size == self.front"
      ],
      "metadata": {
        "id": "AX3B0TiQqvEO"
      },
      "execution_count": null,
      "outputs": []
    },
    {
      "cell_type": "markdown",
      "source": [
        "### Setelah itu buatlah fungsi untuk menambahkan data yaitu `Enqueue`"
      ],
      "metadata": {
        "id": "3MAKRKh3q7c6"
      }
    },
    {
      "cell_type": "code",
      "source": [
        "def enqueue(self, data):\n",
        "  if self.is_full():\n",
        "    print(\"Queue Penuh!\")\n",
        "    return\n",
        "\n",
        "    if self.front == - 1:\n",
        "      self.front = self.rear = 0\n",
        "    else:\n",
        "      self.rear = (self.rear + 1) % self.size\n",
        "    self.queue[self.rear] = data"
      ],
      "metadata": {
        "id": "dk0BB0cmq_6f"
      },
      "execution_count": null,
      "outputs": []
    },
    {
      "cell_type": "markdown",
      "source": [
        "Penjelasan :\n",
        "\n",
        "- Pertama cek apakah Queue masih full atau tidak\n",
        "- Karena pada semula index di letakkan di luar list array, maka start front ke index 0 atau list pertama\n",
        "- Ketika sudah masuk kedalam list, maka tambahkan data, geser ke kanan, lalu simpan datanya"
      ],
      "metadata": {
        "id": "blS9iM8jrAWf"
      }
    },
    {
      "cell_type": "markdown",
      "source": [
        "### Selanjutnya buatlah fungsi untuk menghapus data yaitu `Dequeue`"
      ],
      "metadata": {
        "id": "PJS3E1_srUvS"
      }
    },
    {
      "cell_type": "code",
      "source": [
        "def dequeue(self):\n",
        "  if self.is_empty():\n",
        "    print(\"Queue Kosong!\")\n",
        "    return None\n",
        "\n",
        "  removed = self.queue[self.front]\n",
        "\n",
        "  if self.front == self.rear:\n",
        "    self.front = self.rear = - 1\n",
        "  else:\n",
        "    self.front = (self.front + 1) % self.size\n",
        "  return removed"
      ],
      "metadata": {
        "id": "TMlmVEAOrY-B"
      },
      "execution_count": null,
      "outputs": []
    },
    {
      "cell_type": "markdown",
      "source": [
        "Penjelasan :\n",
        "\n",
        "- Pertama cek apakah Queue masih kosong atau tidak\n",
        "- Variable `removed` ini digunakan untuk mengambil nilai pertama yang masuk (menggunakan metode FIFO atau First In First Out)\n",
        "- Setelah itu ketika posisi front dan rear terletak di index yang sama, maka mundurin si index front (biar si front selalu dibelakang)\n",
        "- Dilanjutkan dengan penggeseran index front\n",
        "- Return removed ini agar mengirim nilai yang pertama masuk tadi ke variable `removed`"
      ],
      "metadata": {
        "id": "TgXLgOIwrsqg"
      }
    },
    {
      "cell_type": "markdown",
      "source": [
        "### Setelah itu pembuatan Display"
      ],
      "metadata": {
        "id": "MlfTqy0_sSTb"
      }
    },
    {
      "cell_type": "code",
      "source": [
        "def display(self):\n",
        "  result = []\n",
        "  i = self.front\n",
        "  while True:\n",
        "    result.append(self.queue[i])\n",
        "    if i == self.rear:\n",
        "      break\n",
        "    i = (i + 1) % self.size\n",
        "  print(f\"Queue : {result}\")"
      ],
      "metadata": {
        "id": "rNG_ZqBUsUpl"
      },
      "execution_count": null,
      "outputs": []
    },
    {
      "cell_type": "markdown",
      "source": [
        "Penjelasan :   \n",
        "\n",
        "- Pertama buat variable list bernama `result`\n",
        "- Setelah itu ambil nilai `self.front` untuk posisi index hapus\n",
        "- Lakukan looping dengan while, lalu masukkan data dari index `self.front` ke dalam list var `result` yang telah dibuat sebelumnya\n",
        "- Ketika index `self.front` telah menyentuh ke index `self.rear` tandanya data telah penuh dan tidak bisa mengisi, maka keluar dari loop\n",
        "- Terakhir index nya akan digeser\n",
        "- Print Hasil"
      ],
      "metadata": {
        "id": "65NWeW2usdsI"
      }
    },
    {
      "cell_type": "markdown",
      "source": [
        "### Full Code"
      ],
      "metadata": {
        "id": "x5GSXMRBtEoT"
      }
    },
    {
      "cell_type": "code",
      "source": [
        "class CircularQueue:\n",
        "    def __init__(self, size):\n",
        "        self.size = size\n",
        "        self.queue = [None] * size\n",
        "        self.front = self.rear = - 1\n",
        "\n",
        "    def is_empty(self):\n",
        "        return self.front == - 1\n",
        "\n",
        "    def is_full(self):\n",
        "        return (self.rear + 1) % self.size == self.front\n",
        "\n",
        "    def enqueue(self, data):\n",
        "        if self.is_full():\n",
        "            print(\"Queue Penuh!\")\n",
        "            return\n",
        "\n",
        "        if self.front == - 1:\n",
        "            self.front = self.rear = 0\n",
        "        else:\n",
        "            self.rear = (self.rear + 1) % self.size\n",
        "        self.queue[self.rear] = data\n",
        "\n",
        "    def dequeue(self):\n",
        "        if self.is_empty():\n",
        "            print(\"Queue Kosong!\")\n",
        "            return None\n",
        "\n",
        "        removed = self.queue[self.front]\n",
        "\n",
        "        if self.front == self.rear:\n",
        "            self.front = self.rear = - 1\n",
        "        else:\n",
        "            self.front = (self.front + 1) % self.size\n",
        "        return removed\n",
        "\n",
        "    def display(self):\n",
        "        result = []\n",
        "        i = self.front\n",
        "        while True:\n",
        "            result.append(self.queue[i])\n",
        "            if i == self.rear:\n",
        "                break\n",
        "            i = (i + 1) % self.size\n",
        "        print(f\"Queue : {result}\")"
      ],
      "metadata": {
        "id": "l590nRnCtGoC"
      },
      "execution_count": null,
      "outputs": []
    }
  ]
}