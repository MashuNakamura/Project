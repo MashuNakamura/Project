{
  "nbformat": 4,
  "nbformat_minor": 0,
  "metadata": {
    "colab": {
      "provenance": [],
      "collapsed_sections": [
        "1MBHdabY5Cmt",
        "YsZlgLWK40mz",
        "pSOCmIeZ5hqM",
        "ijX7NOPn59cI",
        "5Nula0456mWy",
        "i-b_Es_R6rTi"
      ]
    },
    "kernelspec": {
      "name": "python3",
      "display_name": "Python 3"
    },
    "language_info": {
      "name": "python"
    }
  },
  "cells": [
    {
      "cell_type": "markdown",
      "source": [
        "# Circular Stack : Structure Data"
      ],
      "metadata": {
        "id": "er0AN2yq4srN"
      }
    },
    {
      "cell_type": "markdown",
      "source": [
        "## Federico Matthew Pratama - 233405001"
      ],
      "metadata": {
        "id": "0TTEMILr4xlz"
      }
    },
    {
      "cell_type": "markdown",
      "source": [
        "### Full Code :"
      ],
      "metadata": {
        "id": "1MBHdabY5Cmt"
      }
    },
    {
      "cell_type": "code",
      "source": [
        "class CircularStack:\n",
        "    def __init__ (self, size):\n",
        "        self.size = size\n",
        "        self.stack = [None] * size\n",
        "        self.top = - 1\n",
        "        self.count = 0\n",
        "\n",
        "    def is_full(self):\n",
        "        return self.count == self.size\n",
        "\n",
        "    def is_empty(self):\n",
        "        return self.count == 0\n",
        "\n",
        "    def push(self, data):\n",
        "        if self.is_full():\n",
        "            print(\"Stack is Full\")\n",
        "            return\n",
        "        self.top = (self.top + 1) % self.size\n",
        "        self.stack[self.top] = data\n",
        "        self.count += 1\n",
        "        print(f\"Added data : {data}\")\n",
        "\n",
        "    def pop(self):\n",
        "        if self.is_empty():\n",
        "            print(\"Stack is Empty\")\n",
        "            return\n",
        "        popped = self.stack[self.top]\n",
        "        self.stack[self.top] = None\n",
        "        self.top = (self.top - 1 + self.size) % self.size\n",
        "        self.count -= 1\n",
        "        print(f\"Popped data : {popped}\")\n",
        "        return popped\n",
        "\n",
        "    def display_stack(self):\n",
        "        print(f\"Stack : {self.stack}\")\n",
        "\n",
        "    def display_count(self):\n",
        "        print(f\"Count : {self.count}\")\n",
        "\n",
        "if __name__ == \"__main__\":\n",
        "    size = int(input(\"Masukkan ukuran queue : \"))\n",
        "    cs = CircularStack(size)\n",
        "\n",
        "    while True:\n",
        "        print(\"======= MENU =======\")\n",
        "        print(\"1. Push (Add)\")\n",
        "        print(\"2. Pop (Delete)\")\n",
        "        print(\"3. Tampilkan Stack\")\n",
        "        print(\"4. Tampilkan Count\")\n",
        "        print(\"5. Keluar\")\n",
        "\n",
        "        pilihan = input(\"Pilih menu : \")\n",
        "\n",
        "        if pilihan == \"1\":\n",
        "            data = int(input(\"Masukkan data : \"))\n",
        "            cs.push(data)\n",
        "\n",
        "        elif pilihan == \"2\":\n",
        "            cs.pop()\n",
        "\n",
        "        elif pilihan == \"3\":\n",
        "            cs.display_stack()\n",
        "\n",
        "        elif pilihan == \"4\":\n",
        "            cs.display_count()\n",
        "\n",
        "        elif pilihan == \"5\":\n",
        "            print(\"Tuhan Memberkati.\")\n",
        "            break\n",
        "\n",
        "        else:\n",
        "            print(\"Invalid Menu\")"
      ],
      "metadata": {
        "id": "MD8gq9PS5By3"
      },
      "execution_count": null,
      "outputs": []
    },
    {
      "cell_type": "markdown",
      "source": [
        "### Pertama deklarasi variable (Menggunakan OOP -> Opsional)\n",
        "- Size untuk ukuran data\n",
        "- Stack untuk menyimpan size dalam list\n",
        "- Top untuk start dari data kosong\n",
        "- Count untuk menghitung keseluruhan Data"
      ],
      "metadata": {
        "id": "YsZlgLWK40mz"
      }
    },
    {
      "cell_type": "code",
      "source": [
        "class CircularStack:\n",
        "  def __init__ (self, size):\n",
        "    self.size = size\n",
        "    self.stack = [None] * size\n",
        "    self.top = - 1\n",
        "    self.count = 0"
      ],
      "metadata": {
        "id": "fBJ8OvQY481L"
      },
      "execution_count": null,
      "outputs": []
    },
    {
      "cell_type": "markdown",
      "source": [
        "### Membuat fungsi pengecekan apabila penuh atau kosong (opsional)"
      ],
      "metadata": {
        "id": "pSOCmIeZ5hqM"
      }
    },
    {
      "cell_type": "code",
      "source": [
        "def is_full(self):\n",
        "  return self.count == self.size"
      ],
      "metadata": {
        "id": "jbWT5GwT5oOr"
      },
      "execution_count": null,
      "outputs": []
    },
    {
      "cell_type": "code",
      "source": [
        "def is_empty(self):\n",
        "  return self.count == 0"
      ],
      "metadata": {
        "id": "eAIWX-sQ56kC"
      },
      "execution_count": null,
      "outputs": []
    },
    {
      "cell_type": "markdown",
      "source": [
        "### Membuat fungsi untuk Push (Add Data)\n",
        "- self.is_full() untuk cek data kalau penuh, dan return kalau penuh\n",
        "- self.top untuk menambahkan var top (secara melingkar)\n",
        "- self.stack[self.top] untuk menyimpan data\n",
        "- self.count untuk menambah jumlah data"
      ],
      "metadata": {
        "id": "ijX7NOPn59cI"
      }
    },
    {
      "cell_type": "code",
      "source": [
        "def push(self, data):\n",
        "  if self.is_full():\n",
        "    print(\"Stack is Full\")\n",
        "    return\n",
        "    self.top = (self.top + 1) % self.size\n",
        "    self.stack[self.top] = data\n",
        "    self.count += 1\n",
        "    print(f\"Added data : {data}\")"
      ],
      "metadata": {
        "id": "QVbUzBEq5_9C"
      },
      "execution_count": null,
      "outputs": []
    },
    {
      "cell_type": "markdown",
      "source": [
        "### Membuat fungsi Pop (Delete Data)\n",
        "- self.is_empty untuk cek apakah data kosong, return kalau kosong\n",
        "- membuat variable popped untuk mengambil data popped (terdahulu)\n",
        "- self.top untuk mengurangi var top (secara melingkar)\n",
        "- self.count untuk mengurangi jumlah data\n",
        "- return popped ini digunakan untuk mengambil data yang baru masuk, agar si pop tidak bingung data mana yang di pop, anggap data baru masuk 5, maka popped ini menyimpan si 5."
      ],
      "metadata": {
        "id": "5Nula0456mWy"
      }
    },
    {
      "cell_type": "code",
      "source": [
        "def pop(self):\n",
        "  if self.is_empty():\n",
        "    print(\"Stack is Empty\")\n",
        "    return\n",
        "    popped = self.stack[self.top]\n",
        "    self.stack[self.top] = None\n",
        "    self.top = (self.top - 1 + self.size) % self.size\n",
        "    self.count -= 1\n",
        "    print(f\"Popped data : {popped}\")\n",
        "    return popped"
      ],
      "metadata": {
        "id": "7wfXeZf_6tfL"
      },
      "execution_count": null,
      "outputs": []
    },
    {
      "cell_type": "markdown",
      "source": [
        "### Fungsi untuk menampilkan Stack dan Count"
      ],
      "metadata": {
        "id": "i-b_Es_R6rTi"
      }
    },
    {
      "cell_type": "code",
      "source": [
        "def display_stack(self):\n",
        "  print(f\"Stack : {self.stack}\")\n",
        "\n",
        "def display_count(self):\n",
        "  print(f\"Count : {self.count}\")"
      ],
      "metadata": {
        "id": "EJcHJCIF7-JP"
      },
      "execution_count": null,
      "outputs": []
    },
    {
      "cell_type": "markdown",
      "source": [
        "### Main\n",
        "- size untuk menginput berapa ukuran data\n",
        "- cs untuk mengambil data size dari class CircularStack\n",
        "- Setelah itu hanya pemanggilan fungsi"
      ],
      "metadata": {
        "id": "PB12cJh78YmY"
      }
    },
    {
      "cell_type": "code",
      "source": [
        "if __name__ == \"__main__\":\n",
        "    size = int(input(\"Masukkan ukuran queue : \"))\n",
        "    cs = CircularStack(size)\n",
        "\n",
        "    while True:\n",
        "        print(\"======= MENU =======\")\n",
        "        print(\"1. Push (Add)\")\n",
        "        print(\"2. Pop (Delete)\")\n",
        "        print(\"3. Tampilkan Stack\")\n",
        "        print(\"4. Tampilkan Count\")\n",
        "        print(\"5. Keluar\")\n",
        "\n",
        "        pilihan = input(\"Pilih menu : \")\n",
        "\n",
        "        if pilihan == \"1\":\n",
        "            data = int(input(\"Masukkan data : \"))\n",
        "            cs.push(data)\n",
        "\n",
        "        elif pilihan == \"2\":\n",
        "            cs.pop()\n",
        "\n",
        "        elif pilihan == \"3\":\n",
        "            cs.display_stack()\n",
        "\n",
        "        elif pilihan == \"4\":\n",
        "            cs.display_count()\n",
        "\n",
        "        elif pilihan == \"5\":\n",
        "            print(\"Tuhan Memberkati.\")\n",
        "            break\n",
        "\n",
        "        else:\n",
        "            print(\"Invalid Menu\")"
      ],
      "metadata": {
        "id": "ihko0I4Q8Zkb"
      },
      "execution_count": null,
      "outputs": []
    },
    {
      "cell_type": "markdown",
      "source": [
        "### Dokumentasi"
      ],
      "metadata": {
        "id": "TMWserb6-AXR"
      }
    },
    {
      "cell_type": "markdown",
      "source": [
        "Size Data 5 :"
      ],
      "metadata": {
        "id": "yqry_2cr-xWk"
      }
    },
    {
      "cell_type": "markdown",
      "source": [
        "![image.png](data:image/png;base64,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)"
      ],
      "metadata": {
        "id": "jONa8gBm-C47"
      }
    },
    {
      "cell_type": "markdown",
      "source": [
        "Add Data sampai Full :"
      ],
      "metadata": {
        "id": "nY7spmbu-0iK"
      }
    },
    {
      "cell_type": "markdown",
      "source": [
        "![image.png](data:image/png;base64,iVBORw0KGgoAAAANSUhEUgAAAKQAAABCCAYAAADZqH3eAAAAAXNSR0IArs4c6QAAAARnQU1BAACxjwv8YQUAAAAJcEhZcwAADsMAAA7DAcdvqGQAAAfWSURBVHhe7Z0vb+s8FMaf++KQkeqCoZBeUhQctMFIRZP6BYImlQZWhaWRhvIFKg1FCuxQcFDJLQkaKhkJf19gp3WcP3USr/Xenp9UsObs9KR96tiun/jX79+//wVBGMI/8hMEcUuGC9JdY5skSJIQfusx/tiu4coxJR153PW28Xni/8twQXaRrrDwPHiehziXDxJEO7/EPqQfJpjb1QCgQLZZYJXKz6vhhwnmkwybxQp9U7jrLQLniNhbIpIPEv1w19gGDqyRn+d3U28hiwwb3rqxFs6CEyTYrlsvuoTRuFhvEySvwEdWyAeNoy5IiWi5QVYAlvPC+nJ9+odd9MrjIxRie3053DW2yRZrt8yxxdplLXf9dfmHd3otFntOteXx7fU093tZfK+6T/DX6nx/2vHDANPDBt5ihb/yQQO5KEggxedR/FNT/1A5j415Mgdi3mrHOSzntSIUFaavT/jabJAVFqavW8wRw4tzwJri2QX/4AM4x/h0ddhkgBNURQnLQZA84Wsj1hMg/K6Rlz+DDQh19iNaeliYen1uQEGQLh4nAIqvm33D8tjDsuxERnvksDDt9elYsI4fp36TZR0RnxJaePgDuOsn2MiF54F09YassOC8VNWWx0IfLNojBzB57FNPD3h+FAfsfo6uBnNRkH4YwLEKZG/9ByV6yLHXMKLJxSTSl2sZuXieWkC+lwZP/OoweRQul3rqUSfC0vPgDRgU/kTqgrQcBEL/aD7JsPHMHZXp4Q8eLAD2XOg/8vOvzToQ30ldkNIo+z6+mX/xVQDIz/3HyuMu3gMzqAvyDgn9pkuzRsqBySDGjbJ/GiRITvSeobAcBCOHy+nnEYCNWZnGD5GMue6PHGX/NHoLks2zCf0roc9ZzrPpirkq6QoLL0be0I/spdFoiU1WwJ7z/58DscfmcgcxcpQtvs+BYwFgP3Qkhra6lZ8OCeLW9G4hCeI7IUESRkGCJIyCBEkYBQmSMAoSJGEUJEjCKEiQhFGYLUg/rK3arqESc2v46vhev/jcKWYL8u4ZY334mQiCLH0ikh+kwzdNEI2cNNP/ytXQQgorVQC4z1NY4mGCaGW8w/EsSPcRExTIshz2SZEunqdAlkkuLNkx2PhNqDrz5Jih7rzz6hX5f880xlyoWcVRqI507oFT/1J31HOufw62ECoQ4qSaOvL0Z9zaSx0Ox3oLudsjt5/YSfkvcI4fWO2+UGAC5mPyEb4CbzXvtvhG+AiTOezKCuwPPLwOO9ESduMAC0W2gddy84DmGJWaNTkK3TW2yRyTbHM+902GanvRXU+6WvDnY+QAP5dz7NlF2J2nNyPXXupwONYFiQj7nLn6/JldNUfx40tpSX/0nqEQnYDuIyaysarh/3rhhyehtZ50a0z9tWs1c8Y6Cv0XB1aR4a2tRqBXPd3oysMZufZSB2dB/nmAhSM+U3ZSmL7iyVZ02KWfEK3b5d/2XNNUxzNbdV0XmoBKjIhcM6DBUehjZgPFYdf/i9dYzwBG5bm9w7GhhQSQ7nCABWTvwmWR+ZdR6eOUD9bXORNhyVdJn1ZOD+7bWHAclv342fY2XY65XPN10VWPrjym0CxIpFgtmvsDZR8tL+8kIfR1qrAc5z7U0L5NgWzD7m7R3uJ2x6jXfB101aMrj0mcBOk+TqpHGjgZ6osM730ubekKCy7KspVtpMOdV95jyJ63i7o5ZmDNg2B2Wks6Sf9FHGX3qac5H6NPHlXGjbJ10NJCSvB+yXYNZhcVR2F8VFkRkh/WpkvYfGaBLz4f0N+dl2K1iJHDghO0Tfk0xXCL66WatZBidyiAcpaCt2LzSSGMsvvUw2OFfLVjSnkUGTnK1oGaIAVYKyQ414IHfMiXiWiJN7xW+jbsPo/iCHaIOy/CcpOhgI15a5+0HqNUsybS1eJ0C8MkSRA8fMBbfFQGGn3qqcUK85C1Yx15lBg5yhb7s0MdjuQ6JIyidwtJEN8JCZIwChIkYRQkSMIoSJCEUZAgCaMgQRJGQYIkjEKPIFVcdSoxKpiWh9CKHkHeFZdtFsRwmgXph/w3ybbfi4kfxwgn4DVpFKQ/s4E8Y7te3WrZB6GJ8U7Aa9KwuIIZtBB7eH/cIpgeGnZy5SauynPSjltKMS7W2wDOabFg006lKnlUUMjjljumlpzrKRfDtlGxTnTk6Q+vuxi2o64fJnj6YrWxc8CIWr6fegvpz2Bzb0m6O6CQ18apuOpUYuBf3ltQKY8CSnm6HXz37AS8JjVBsss132It3eEgXbZVXHUqMSp7C6rkUUEtjy4Hn648nJFrFH8akiCZa+5sX2Wrkq3pM19cqeKqU4m5vLegWh4VRuQZ5eATGJXn9k7Aa1IVpD+DLdgMACDa54DlQNoQdSRm7i2oy8GnK889UhGkP7Ory86T5ORzOd9eRQeX9xa8NrocfLry3CuCIPmlTeqss045AHvW6oKruupUYlT2FlTJo4JKnj4OvuZ8jD55VLm9E/CanAXJL9eHhp5ztM8B2Ah9NVfd5RiVvQXV8lxGJU8fB9/9OQGvyWke0g/53tiNnWfh5lHLiMWW73Aew1viNHdZDppVYlTmBtXyXOZyHnlONEfs7THj00XVqRM5VpyHlI915VFh3Dxk5/zpwJzfScPEOEHcjto8JEHcEhIkYRQkSMIoSJCEUZAgCaMgQRJG8R8XjlowYgil1AAAAABJRU5ErkJggg==)"
      ],
      "metadata": {
        "id": "REswIqvc-Epa"
      }
    },
    {
      "cell_type": "markdown",
      "source": [
        "![image.png](data:image/png;base64,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)"
      ],
      "metadata": {
        "id": "3USNN5QN-N9v"
      }
    },
    {
      "cell_type": "markdown",
      "source": [
        "![image.png](data:image/png;base64,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)"
      ],
      "metadata": {
        "id": "MhyR7RAY-Qwg"
      }
    },
    {
      "cell_type": "markdown",
      "source": [
        "![image.png](data:image/png;base64,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)"
      ],
      "metadata": {
        "id": "VvF6DaEr-VC7"
      }
    },
    {
      "cell_type": "markdown",
      "source": [
        "![image.png](data:image/png;base64,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)"
      ],
      "metadata": {
        "id": "Cp3a6aBw-Xf1"
      }
    },
    {
      "cell_type": "markdown",
      "source": [
        "Kalau sudah Full :"
      ],
      "metadata": {
        "id": "ecK-XQvh-2BC"
      }
    },
    {
      "cell_type": "markdown",
      "source": [
        "![image.png](data:image/png;base64,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)"
      ],
      "metadata": {
        "id": "8fIs3OWP-YOa"
      }
    },
    {
      "cell_type": "markdown",
      "source": [
        "Cek isi Stack :"
      ],
      "metadata": {
        "id": "ycyOXq13-53j"
      }
    },
    {
      "cell_type": "markdown",
      "source": [
        "![image.png](data:image/png;base64,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)"
      ],
      "metadata": {
        "id": "EAZ67s05-fCR"
      }
    },
    {
      "cell_type": "markdown",
      "source": [
        "Cek isi Jumlah :"
      ],
      "metadata": {
        "id": "3U5JPB8T-9EL"
      }
    },
    {
      "cell_type": "markdown",
      "source": [
        "![image.png](data:image/png;base64,iVBORw0KGgoAAAANSUhEUgAAAJIAAAAuCAYAAADDc0CAAAAAAXNSR0IArs4c6QAAAARnQU1BAACxjwv8YQUAAAAJcEhZcwAADsMAAA7DAcdvqGQAAATpSURBVHhe7Zwvb+s8FMaf+2KTkWpgKKQjQ8FBHbQUNKlfIKhSaWAVGBppKF8g0lCkwF0UHFRyS4KKSkrM7wuctEn6Z7Hjdrfd+UkFSzLXsZ8cHzt++uvx8fEvCGIg/3UPEIQOJCTCCCQkwggkJMIIJCTCCNcRkhMgyTJkWQTv5LnqkwRwutfUnCnHCZKjx4nrcB0hnSNfYMo5OOdIy+5J4lb4pbuO5EUZXKt7VKAIp1jk3eP98KIM7qhAOF1AtQgnSODbG6R8jrh7ktDAQ5S5sACIIsT0i04dFpFEgbCKJjKiMNh+hiQ4OTgRN4IXSRH1ZZiQOsTzEIUAmP0mcxWV/OccSuV4iBrXKonaCZBkCQKnLiNB4MhIefi9DoKkUafq2n1RSXX96focz+vk9Ur13lF919n26YETYGIBZZqib7ZhVEhAjvWm+aeh/Kd3ORbczAXSKkqmJZg9a3VwH8azCbZhiEIwjGcJXKTgaQmwMV4dVB3mw96ku2gcFoDtt8UEZsPPJtiGzfr4iC41I/BeZBTZ1VMHB8HMBitTzBVyBMNCcvA0AiC2+NM9dSXKlO8bIF6iBMNYqVUZ2Ob3Ls9jbIN0VyDDwzPgBBNYKBvHgXzxjkIw2G9tlZRpI2eMlygBjJ5U6qNAVT7ECp/nU5qTOMEMNmvfWx+MCsmLfNhMoHhXT5bNUGKpdv9HKZuFdB6KeezgdcyActlJ6qtoPHpqDCtm6tOfGHPOwTUmKxIPbzaDKD6UJyzDhMRs+I3x3x0VCLn+rO02eMYDA2C5jfyoun+V7PQfxItcWKLAu0YHDhNSZ9am/yTcEn+wFQDKfX7U+txqG3gRXEt/NBkmpB9I5B0bwgxSJ8xa6M/avBcLgFy+2UdZuQTAbP9gxtmFhKRB/FFAMBv+wOlXvt4AsPBSF+NFyIaMjwNmbfH8SHTlcvovihCc87OLkhcVklwnaeQPjZyqVrepa65KvsCUpyiP5ElK2ornCAsBy63+3wVSLtfitDAwa9NF+xUJQTS5aEQifg4kJMIIJCTCCCQkwggkJMIIJCTCCCQkwggkJMIIJCTCCHcmpCHbVIkhDH5FIt0brHGk/EYnh3Q+jHq4Hi7OyRew39k+l2NARJKb330bKOo9yZyD8yVelN5c3jOi0zYc/A5FhCERSUYi9PCx7f1Rkrb37bgfrR1ZnCCBP14hnK7x1iir9lsdRsU2fXxZh1T1Fno+OxmRRj3a5z7QjEjVvuWvtit4EbJKEPUTKd0WitstcN6RkS+mR/fP1B91EQ3b2/MT0ROS8wqpo88zT6qDQJqjWh0p3RaANVHfxXdrjozDHYddD9v9oCekPtRi23aNSTk+VwJgD3junDnPjTky4nknNwpRCAtux0h5L1xOSBWb9aluGOFSweTfJMfivYBQ9tndBnpCytfYAGDjV+Xhac8GJzV2r9Tt9qAWi28BPSEhxrL8IhHNP7ESgLXb2V5zymDYQNtJIa1CZjpK35Fxkuq+WgbMO0FTSEA8T1GCHfrd4SGKPBnKf5eA5bZmaNISLFB8yMY066SorELWZHgeYnrW5gRIXDn5UHRD3wTa60g1h7+T1Fm5PRDG4cpuex2oRMo/8JT4GK+a60Tn15r2OAgSH81lpe9YRzq2ttX6XYI7Y7CQCAJDhjaCaEJCIoxAQiKMQEIijPA/SknG+qqp9D8AAAAASUVORK5CYII=)"
      ],
      "metadata": {
        "id": "aW7E0QaQ-iYT"
      }
    },
    {
      "cell_type": "markdown",
      "source": [
        "Pop Data :"
      ],
      "metadata": {
        "id": "cr0bB9VY-7iM"
      }
    },
    {
      "cell_type": "markdown",
      "source": [
        "![image.png](data:image/png;base64,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)"
      ],
      "metadata": {
        "id": "dYOfqyKC-lMM"
      }
    },
    {
      "cell_type": "markdown",
      "source": [
        "Cek Stack setelah Pop Data :"
      ],
      "metadata": {
        "id": "EOX_25ek_Aeh"
      }
    },
    {
      "cell_type": "markdown",
      "source": [
        "![image.png](data:image/png;base64,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)"
      ],
      "metadata": {
        "id": "hY6crAvT-o2J"
      }
    },
    {
      "cell_type": "markdown",
      "source": [
        "Cek Jumlah setelah Pop Data :"
      ],
      "metadata": {
        "id": "q2GLQkOI_DAv"
      }
    },
    {
      "cell_type": "markdown",
      "source": [
        "![image.png](data:image/png;base64,iVBORw0KGgoAAAANSUhEUgAAAIsAAAAuCAYAAAAYyOqiAAAAAXNSR0IArs4c6QAAAARnQU1BAACxjwv8YQUAAAAJcEhZcwAADsMAAA7DAcdvqGQAAAS9SURBVHhe7Zwvc6tMFIef++o1NZmKKkxqqtCoVjKD6ky+AKozscgMEstMFV+AmSpmkL0qGhVza1BVMTX49xULCSGQu/y5fS/tPjOIANks7I+z5yzn5Mf19fW/aDQK/NPcodF0ocWiUUaLRaOMFotGGS0WjTJaLBpltFg0yowXi+UTpylpGuJ2Hiu32MdqnlNxoR3Lj1v3az6X8WK5xHbDyraxbZskbx7UzI0fbSu4bpjiGM29BVmwYrNt7lfDDVOcRUaw2tC3CcuP8cw9ib0mah7UDMAlTB0MoMgCVoqD2m1ZioygtArSMghMLyX2OycSzUxwQymUvnSLpUG0DsgKEOaj9B36+COX6NWOS1g7t5dwLZ84jfGtqo0Y35IW7/x3Lfy41qfy3GNTcXl+d3/a/Sx5fq9+Hyh/6+L9UcDyuTcgTxL6egbKYoEt7/v6x4n8EeV2DJzUgaS0dkmOMJ9OBlGF5dM9H0FAVgiWTzEOCXaSg1jyYFEOioe5Tw5WNcjA9E4FgzDx0ns+gnp/PMI/5YW7d9IaHPo5BAv/yUTkCesB83kPsVjcLIDig1/NQ59EntjHi4x25AiWve6cQOx/HvwuIfYkhwYFV7dg+fcY5LX9sN08kxUC8/FUCXlS8+GiHTmwuOnTnx6U7VO88armYpxh+U+Y4vTa+qAsFjf0MEVB9tzfQZ2GnN2wazwhrzfSEP46snhYCsh3DUe6tKqLm9oUME1/1IlY2zb2gABB4vJoCorsZXCQ0C0WYeLV5mNnkRHYw6OheXDLlQAMp+avlNc/xCP8i3BDB6PIeB4xgN1iaURDwxU9J37xUQD50V852eZ6D9wQxxg/K3SL5RsSum3TzYRUTuoghkdD7p0ByKWPo7WU4bMwvbNIrgstlgbRS0YhTLyRYc32fQ8Y3FXNuCHpmLlsRDQUrVuspC1D5yILsG1baWFusFjkOkJtPq/5OJVKpzrnU9luWNkJeYvf0ks/0ZogKzCc8vsOJLZcqxrEBNHQWFqX+zWaNgZbFs33Q4tFo4wWi0YZLRaNMlosGmW0WDTKaLFolNFi0SijxaJRZkZiGZOSqJmCi2Kpv7eRWzOnVFPPC/7qQu4Qi0xY9kzIqhxT28a2d9z1epv29RmaKT9HWl8kyjodFOqEjvUnktPaovZ6H/mdRVmvYvkx3vKNYPXOY62tqp5FtiEO327Sp+7lSNnvYlgd0wHLJ/ZM9kkCzvGaviotlqXMQ/3dq3A3JC0HvbI8Mgu+56t8LmfKbzer1vyLahs0OCNyQ46My5SfI+disR6QWnm98MRZ+LL45GSwZBY8GPf9s7m+W6b8HDkXiwqVoD6aRSFbXt8KEFfcNo5c5vtlys+RYWIp2b933eoFf8oo/A1MkSk/R87Fsn1nD4jlQ++p5MieTh3NnYky5efIuViI2OW/cf62r7wVYByykSu6irRqDM5wl2Ua4qrfBNfO/58pP0daxALROiFHnNf34hKGLrBl8zMHwzmJfKTTV5C9SKlMm+FelmkY973rm88YEQ1NlSk/R1rFUjmA1d9sHJ+gO3aV9x+tsZP8mL2epuWaSj2qmTbDXf6Tw2mfBj3FE0RD35HWRTmNpo0Oy6LRnKPFolHmP2ZH1vT/GlvIAAAAAElFTkSuQmCC)"
      ],
      "metadata": {
        "id": "T8wQ8ceS-p6u"
      }
    },
    {
      "cell_type": "markdown",
      "source": [
        "Kalau Pop pada saat Data kosong :"
      ],
      "metadata": {
        "id": "1ze1ygSY_FrO"
      }
    },
    {
      "cell_type": "markdown",
      "source": [
        "![image.png](data:image/png;base64,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)"
      ],
      "metadata": {
        "id": "1zIv7gOS_J3H"
      }
    },
    {
      "cell_type": "markdown",
      "source": [
        "Keluar dari Program"
      ],
      "metadata": {
        "id": "Om8GIgGr_Szv"
      }
    },
    {
      "cell_type": "markdown",
      "source": [
        "![image.png](data:image/png;base64,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)"
      ],
      "metadata": {
        "id": "u8fTzWLg_XoC"
      }
    }
  ]
}